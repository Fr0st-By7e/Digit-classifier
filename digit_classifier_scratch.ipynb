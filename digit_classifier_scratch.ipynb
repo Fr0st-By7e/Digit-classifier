{
  "nbformat": 4,
  "nbformat_minor": 0,
  "metadata": {
    "colab": {
      "provenance": [],
      "authorship_tag": "ABX9TyPOrBt7kTtNysXu+hyaY/8x"
    },
    "kernelspec": {
      "name": "python3",
      "display_name": "Python 3"
    },
    "language_info": {
      "name": "python"
    }
  },
  "cells": [
    {
      "cell_type": "code",
      "execution_count": 21,
      "metadata": {
        "id": "1ktf8jyRtCrb"
      },
      "outputs": [],
      "source": [
        "import numpy as np\n",
        "import pandas as pd\n",
        "import matplotlib.pyplot as plt\n",
        "import tensorflow as tf #only for confusion matrix\n",
        "from tensorflow import keras #only for the dataset"
      ]
    },
    {
      "cell_type": "code",
      "source": [
        "(x_train, y_train), (x_test, y_test) = keras.datasets.mnist.load_data()"
      ],
      "metadata": {
        "id": "Ds6IkSM4tpuX"
      },
      "execution_count": 22,
      "outputs": []
    },
    {
      "cell_type": "markdown",
      "source": [
        "Data Analysis"
      ],
      "metadata": {
        "id": "sAH7tSETuZgL"
      }
    },
    {
      "cell_type": "code",
      "source": [
        "len(x_train)"
      ],
      "metadata": {
        "colab": {
          "base_uri": "https://localhost:8080/"
        },
        "id": "Xwo8S17PuBG8",
        "outputId": "b3e21825-524a-47de-cd65-b6cf4496106c"
      },
      "execution_count": 3,
      "outputs": [
        {
          "output_type": "execute_result",
          "data": {
            "text/plain": [
              "60000"
            ]
          },
          "metadata": {},
          "execution_count": 3
        }
      ]
    },
    {
      "cell_type": "code",
      "source": [
        "len(x_test)"
      ],
      "metadata": {
        "colab": {
          "base_uri": "https://localhost:8080/"
        },
        "id": "w8bB3fkNufR3",
        "outputId": "d6b85835-c68b-4807-d371-498eb1fd3bba"
      },
      "execution_count": 4,
      "outputs": [
        {
          "output_type": "execute_result",
          "data": {
            "text/plain": [
              "10000"
            ]
          },
          "metadata": {},
          "execution_count": 4
        }
      ]
    },
    {
      "cell_type": "code",
      "source": [
        "x_train[0].shape"
      ],
      "metadata": {
        "colab": {
          "base_uri": "https://localhost:8080/"
        },
        "id": "3kBoLOwZuhRs",
        "outputId": "936fc415-f87e-486b-ab27-f53303edd809"
      },
      "execution_count": 5,
      "outputs": [
        {
          "output_type": "execute_result",
          "data": {
            "text/plain": [
              "(28, 28)"
            ]
          },
          "metadata": {},
          "execution_count": 5
        }
      ]
    },
    {
      "cell_type": "code",
      "source": [
        "plt.matshow(x_train[0])"
      ],
      "metadata": {
        "colab": {
          "base_uri": "https://localhost:8080/",
          "height": 455
        },
        "id": "ddsjiS4tujoG",
        "outputId": "058cca41-2944-48bf-ca95-b883193bf47a"
      },
      "execution_count": 6,
      "outputs": [
        {
          "output_type": "execute_result",
          "data": {
            "text/plain": [
              "<matplotlib.image.AxesImage at 0x7e7df62dd550>"
            ]
          },
          "metadata": {},
          "execution_count": 6
        },
        {
          "output_type": "display_data",
          "data": {
            "text/plain": [
              "<Figure size 480x480 with 1 Axes>"
            ],
            "image/png": "[encoded data removed]"
          },
          "metadata": {}
        }
      ]
    },
    {
      "cell_type": "code",
      "source": [
        "y_train[0]"
      ],
      "metadata": {
        "colab": {
          "base_uri": "https://localhost:8080/"
        },
        "id": "mkIA0d_NunE0",
        "outputId": "d24ed146-5340-4d63-f2d7-cc3208ba1a00"
      },
      "execution_count": 7,
      "outputs": [
        {
          "output_type": "execute_result",
          "data": {
            "text/plain": [
              "np.uint8(5)"
            ]
          },
          "metadata": {},
          "execution_count": 7
        }
      ]
    },
    {
      "cell_type": "markdown",
      "source": [
        "Initial Data Transformation"
      ],
      "metadata": {
        "id": "v9X8yqUuu-Aj"
      }
    },
    {
      "cell_type": "code",
      "source": [
        "x_train = x_train/255\n",
        "x_test = x_test/255\n",
        "x_train_1d = x_train.reshape(len(x_train), 28*28).T\n",
        "x_test_1d = x_test.reshape(len(x_test), 28*28).T\n",
        "y_train = y_train.T\n",
        "y_test = y_test.T"
      ],
      "metadata": {
        "id": "_54kR4LCu_2i"
      },
      "execution_count": 8,
      "outputs": []
    },
    {
      "cell_type": "code",
      "source": [
        "x_train_1d.shape"
      ],
      "metadata": {
        "colab": {
          "base_uri": "https://localhost:8080/"
        },
        "id": "j73ZvGouvmRO",
        "outputId": "5c5eacfb-0f4b-4059-8ed3-0b7a2139496e"
      },
      "execution_count": 9,
      "outputs": [
        {
          "output_type": "execute_result",
          "data": {
            "text/plain": [
              "(784, 60000)"
            ]
          },
          "metadata": {},
          "execution_count": 9
        }
      ]
    },
    {
      "cell_type": "code",
      "source": [
        "x_test_1d.shape"
      ],
      "metadata": {
        "colab": {
          "base_uri": "https://localhost:8080/"
        },
        "id": "U6K-IINMvnD5",
        "outputId": "8e8132c7-1496-4b1e-c30f-0609b215029a"
      },
      "execution_count": 10,
      "outputs": [
        {
          "output_type": "execute_result",
          "data": {
            "text/plain": [
              "(784, 10000)"
            ]
          },
          "metadata": {},
          "execution_count": 10
        }
      ]
    },
    {
      "cell_type": "markdown",
      "source": [
        "**Neural Network**"
      ],
      "metadata": {
        "id": "lpITNocCwBm-"
      }
    },
    {
      "cell_type": "code",
      "source": [
        "#random matrices with proper dimensions for weights and biases\n",
        "def init_params():\n",
        "    W1 = np.random.rand(10, 784) - 0.5\n",
        "    b1 = np.random.rand(10, 1) - 0.5\n",
        "    W2 = np.random.rand(10, 10) - 0.5\n",
        "    b2 = np.random.rand(10, 1) - 0.5\n",
        "    return W1, b1, W2, b2\n",
        "\n",
        "#activation for layer 1\n",
        "def ReLU(Z):\n",
        "    return np.maximum(Z, 0)\n",
        "\n",
        "#activation for layer 2\n",
        "def softmax(Z):\n",
        "    expZ = np.exp(Z - np.max(Z, axis=0, keepdims=True))\n",
        "    return expZ / np.sum(expZ, axis=0, keepdims=True)\n",
        "\n",
        "def forward_prop(W1, b1, W2, b2, X):\n",
        "    #layer 1\n",
        "    Z1 = W1.dot(X) + b1\n",
        "    A1 = ReLU(Z1)\n",
        "    #layer 2\n",
        "    Z2 = W2.dot(A1) + b2\n",
        "    A2 = softmax(Z2)\n",
        "    return Z1, A1, Z2, A2\n",
        "\n",
        "#derivative of ReLU\n",
        "def dReLU(Z):\n",
        "    return (Z > 0).astype(float)\n",
        "\n",
        "def one_hot(Y):\n",
        "    one_hot_Y = np.zeros((Y.size, Y.max() + 1))\n",
        "    one_hot_Y[np.arange(Y.size), Y] = 1\n",
        "    one_hot_Y = one_hot_Y.T #transpose\n",
        "    return one_hot_Y\n",
        "\n",
        "def backward_prop(Z1, A1, A2, W2, X, Y):\n",
        "    m = Y.size\n",
        "    one_hot_Y = one_hot(Y)\n",
        "    dZ2 = A2 - one_hot_Y\n",
        "    dW2 = 1 / m * dZ2.dot(A1.T)\n",
        "    db2 = 1 / m * np.sum(dZ2, axis=1, keepdims=True)\n",
        "    dZ1 = W2.T.dot(dZ2) * dReLU(Z1)\n",
        "    dW1 = 1 / m * dZ1.dot(X.T)\n",
        "    db1 = 1 / m * np.sum(dZ1, axis=1, keepdims=True)\n",
        "    return dW1, db1, dW2, db2\n",
        "\n",
        "def update_params(W1, b1, W2, b2, dW1, db1, dW2, db2, a):\n",
        "    W1 = W1 - a * dW1\n",
        "    b1 = b1 - a * db1\n",
        "    W2 = W2 - a * dW2\n",
        "    b2 = b2 - a * db2\n",
        "    return W1, b1, W2, b2"
      ],
      "metadata": {
        "id": "2GsBgA1HwJMF"
      },
      "execution_count": 11,
      "outputs": []
    },
    {
      "cell_type": "code",
      "source": [
        "def get_predictions(A2):\n",
        "    return np.argmax(A2, 0)\n",
        "\n",
        "def get_accuracy(predictions, Y):\n",
        "    print(predictions, Y)\n",
        "    return np.sum(predictions == Y) / Y.size\n",
        "\n",
        "def gradient_descent(X, Y, a, iterations):\n",
        "    W1, b1, W2, b2 = init_params()\n",
        "    for i in range(iterations):\n",
        "        Z1, A1, Z2, A2 = forward_prop(W1, b1, W2, b2, X)\n",
        "        dW1, db1, dW2, db2 = backward_prop(Z1, A1, A2, W2, X, Y)\n",
        "        W1, b1, W2, b2 = update_params(W1, b1, W2, b2, dW1, db1, dW2, db2, a)\n",
        "        if i % 10 == 0:\n",
        "            print(\"Iteration: \", i)\n",
        "            predictions = get_predictions(A2)\n",
        "            print(get_accuracy(predictions, Y))\n",
        "    return W1, b1, W2, b2"
      ],
      "metadata": {
        "id": "2dCIobyyzgO6"
      },
      "execution_count": 12,
      "outputs": []
    },
    {
      "cell_type": "markdown",
      "source": [
        "Training"
      ],
      "metadata": {
        "id": "7y8pqILf2Cig"
      }
    },
    {
      "cell_type": "code",
      "source": [
        "W1, b1, W2, b2 = gradient_descent(x_train_1d, y_train, 0.10, 500)"
      ],
      "metadata": {
        "colab": {
          "base_uri": "https://localhost:8080/"
        },
        "id": "b1FrVhqn2ETo",
        "outputId": "5101c6a6-0ac6-48ea-c9a1-e5e9e3c244fe"
      },
      "execution_count": 13,
      "outputs": [
        {
          "output_type": "stream",
          "name": "stdout",
          "text": [
            "Iteration:  0\n",
            "[5 1 8 ... 1 5 5] [5 0 4 ... 5 6 8]\n",
            "0.08633333333333333\n",
            "Iteration:  10\n",
            "[8 1 8 ... 8 8 8] [5 0 4 ... 5 6 8]\n",
            "0.16096666666666667\n",
            "Iteration:  20\n",
            "[8 1 8 ... 8 8 8] [5 0 4 ... 5 6 8]\n",
            "0.22778333333333334\n",
            "Iteration:  30\n",
            "[2 3 8 ... 8 8 8] [5 0 4 ... 5 6 8]\n",
            "0.30483333333333335\n",
            "Iteration:  40\n",
            "[2 0 8 ... 8 2 8] [5 0 4 ... 5 6 8]\n",
            "0.36751666666666666\n",
            "Iteration:  50\n",
            "[2 0 8 ... 8 2 6] [5 0 4 ... 5 6 8]\n",
            "0.40985\n",
            "Iteration:  60\n",
            "[2 0 8 ... 1 2 6] [5 0 4 ... 5 6 8]\n",
            "0.4431833333333333\n",
            "Iteration:  70\n",
            "[0 0 8 ... 1 6 6] [5 0 4 ... 5 6 8]\n",
            "0.4762\n",
            "Iteration:  80\n",
            "[0 0 8 ... 1 6 6] [5 0 4 ... 5 6 8]\n",
            "0.5090166666666667\n",
            "Iteration:  90\n",
            "[0 0 8 ... 1 6 6] [5 0 4 ... 5 6 8]\n",
            "0.5419833333333334\n",
            "Iteration:  100\n",
            "[0 0 8 ... 1 6 6] [5 0 4 ... 5 6 8]\n",
            "0.5711\n",
            "Iteration:  110\n",
            "[0 0 8 ... 1 6 6] [5 0 4 ... 5 6 8]\n",
            "0.5981\n",
            "Iteration:  120\n",
            "[0 0 4 ... 1 6 6] [5 0 4 ... 5 6 8]\n",
            "0.6232\n",
            "Iteration:  130\n",
            "[0 0 4 ... 1 6 6] [5 0 4 ... 5 6 8]\n",
            "0.6443833333333333\n",
            "Iteration:  140\n",
            "[0 0 4 ... 1 6 6] [5 0 4 ... 5 6 8]\n",
            "0.6631166666666667\n",
            "Iteration:  150\n",
            "[3 0 4 ... 1 6 6] [5 0 4 ... 5 6 8]\n",
            "0.67995\n",
            "Iteration:  160\n",
            "[3 0 4 ... 1 6 6] [5 0 4 ... 5 6 8]\n",
            "0.69435\n",
            "Iteration:  170\n",
            "[3 0 4 ... 1 6 6] [5 0 4 ... 5 6 8]\n",
            "0.7066833333333333\n",
            "Iteration:  180\n",
            "[3 0 4 ... 5 6 6] [5 0 4 ... 5 6 8]\n",
            "0.7177833333333333\n",
            "Iteration:  190\n",
            "[3 0 4 ... 5 6 4] [5 0 4 ... 5 6 8]\n",
            "0.7272666666666666\n",
            "Iteration:  200\n",
            "[3 0 4 ... 5 6 4] [5 0 4 ... 5 6 8]\n",
            "0.7369\n",
            "Iteration:  210\n",
            "[3 0 4 ... 5 6 4] [5 0 4 ... 5 6 8]\n",
            "0.7447833333333334\n",
            "Iteration:  220\n",
            "[3 0 4 ... 5 6 4] [5 0 4 ... 5 6 8]\n",
            "0.75215\n",
            "Iteration:  230\n",
            "[3 0 4 ... 5 6 4] [5 0 4 ... 5 6 8]\n",
            "0.7585666666666666\n",
            "Iteration:  240\n",
            "[3 0 4 ... 5 6 4] [5 0 4 ... 5 6 8]\n",
            "0.7643\n",
            "Iteration:  250\n",
            "[3 0 4 ... 5 6 4] [5 0 4 ... 5 6 8]\n",
            "0.7693666666666666\n",
            "Iteration:  260\n",
            "[3 0 4 ... 5 6 4] [5 0 4 ... 5 6 8]\n",
            "0.774\n",
            "Iteration:  270\n",
            "[3 0 4 ... 5 6 4] [5 0 4 ... 5 6 8]\n",
            "0.7785333333333333\n",
            "Iteration:  280\n",
            "[3 0 4 ... 5 6 4] [5 0 4 ... 5 6 8]\n",
            "0.7832333333333333\n",
            "Iteration:  290\n",
            "[3 0 4 ... 5 6 4] [5 0 4 ... 5 6 8]\n",
            "0.7874666666666666\n",
            "Iteration:  300\n",
            "[3 0 4 ... 5 6 4] [5 0 4 ... 5 6 8]\n",
            "0.7919333333333334\n",
            "Iteration:  310\n",
            "[3 0 4 ... 5 6 4] [5 0 4 ... 5 6 8]\n",
            "0.7955\n",
            "Iteration:  320\n",
            "[3 0 4 ... 5 6 4] [5 0 4 ... 5 6 8]\n",
            "0.7992\n",
            "Iteration:  330\n",
            "[3 0 4 ... 5 6 4] [5 0 4 ... 5 6 8]\n",
            "0.80235\n",
            "Iteration:  340\n",
            "[3 0 4 ... 5 6 4] [5 0 4 ... 5 6 8]\n",
            "0.8049333333333333\n",
            "Iteration:  350\n",
            "[3 0 4 ... 5 6 4] [5 0 4 ... 5 6 8]\n",
            "0.8077166666666666\n",
            "Iteration:  360\n",
            "[3 0 4 ... 5 6 4] [5 0 4 ... 5 6 8]\n",
            "0.8103666666666667\n",
            "Iteration:  370\n",
            "[3 0 4 ... 5 6 4] [5 0 4 ... 5 6 8]\n",
            "0.8127833333333333\n",
            "Iteration:  380\n",
            "[3 0 4 ... 5 6 4] [5 0 4 ... 5 6 8]\n",
            "0.81515\n",
            "Iteration:  390\n",
            "[3 0 4 ... 5 6 4] [5 0 4 ... 5 6 8]\n",
            "0.8172\n",
            "Iteration:  400\n",
            "[3 0 4 ... 5 6 4] [5 0 4 ... 5 6 8]\n",
            "0.8195166666666667\n",
            "Iteration:  410\n",
            "[3 0 4 ... 5 6 4] [5 0 4 ... 5 6 8]\n",
            "0.8214833333333333\n",
            "Iteration:  420\n",
            "[3 0 4 ... 5 6 4] [5 0 4 ... 5 6 8]\n",
            "0.82345\n",
            "Iteration:  430\n",
            "[3 0 4 ... 5 6 4] [5 0 4 ... 5 6 8]\n",
            "0.8251166666666667\n",
            "Iteration:  440\n",
            "[3 0 4 ... 5 6 4] [5 0 4 ... 5 6 8]\n",
            "0.8268833333333333\n",
            "Iteration:  450\n",
            "[3 0 4 ... 5 6 4] [5 0 4 ... 5 6 8]\n",
            "0.8285166666666667\n",
            "Iteration:  460\n",
            "[3 0 4 ... 5 6 4] [5 0 4 ... 5 6 8]\n",
            "0.8302666666666667\n",
            "Iteration:  470\n",
            "[3 0 4 ... 5 6 4] [5 0 4 ... 5 6 8]\n",
            "0.8315833333333333\n",
            "Iteration:  480\n",
            "[3 0 4 ... 5 6 4] [5 0 4 ... 5 6 8]\n",
            "0.8329833333333333\n",
            "Iteration:  490\n",
            "[3 0 4 ... 5 6 4] [5 0 4 ... 5 6 8]\n",
            "0.83455\n"
          ]
        }
      ]
    },
    {
      "cell_type": "markdown",
      "source": [
        "*Accuracy = 83.455%*\n",
        "\n",
        "---\n",
        "\n"
      ],
      "metadata": {
        "id": "lyn_75u7gmsR"
      }
    },
    {
      "cell_type": "markdown",
      "source": [
        "Testing"
      ],
      "metadata": {
        "id": "85PQbSU5gtKg"
      }
    },
    {
      "cell_type": "code",
      "source": [
        "def make_predictions(X, W1, b1, W2, b2):\n",
        "    _, _, _, A2 = forward_prop(W1, b1, W2, b2, X)\n",
        "    predictions = get_predictions(A2)\n",
        "    accuracy = get_accuracy(predictions, y_test)\n",
        "    print(\"Accuracy: \", accuracy)\n",
        "    return accuracy, predictions"
      ],
      "metadata": {
        "id": "ZQpFC27jgxdb"
      },
      "execution_count": 16,
      "outputs": []
    },
    {
      "cell_type": "code",
      "source": [
        "test_accuracy, test_predictions = make_predictions(x_test_1d, W1, b1, W2, b2)"
      ],
      "metadata": {
        "colab": {
          "base_uri": "https://localhost:8080/"
        },
        "id": "21KjsJkDh2gK",
        "outputId": "d6b07ec4-7ab2-4864-b8a2-7f90b3adb994"
      },
      "execution_count": 17,
      "outputs": [
        {
          "output_type": "stream",
          "name": "stdout",
          "text": [
            "[7 2 1 ... 4 8 6] [7 2 1 ... 4 5 6]\n",
            "Accuracy:  0.8425\n"
          ]
        }
      ]
    },
    {
      "cell_type": "code",
      "source": [
        "test_predictions"
      ],
      "metadata": {
        "colab": {
          "base_uri": "https://localhost:8080/"
        },
        "id": "Zy-8apDsitqb",
        "outputId": "92567b36-0bc3-43c7-f646-4d0476bb2762"
      },
      "execution_count": 18,
      "outputs": [
        {
          "output_type": "execute_result",
          "data": {
            "text/plain": [
              "array([7, 2, 1, ..., 4, 8, 6])"
            ]
          },
          "metadata": {},
          "execution_count": 18
        }
      ]
    },
    {
      "cell_type": "markdown",
      "source": [
        "**Confusion matrix**"
      ],
      "metadata": {
        "id": "M1kBArCGi1Vg"
      }
    },
    {
      "cell_type": "code",
      "source": [
        "cm = tf.math.confusion_matrix(labels=y_test, predictions=test_predictions)\n",
        "cm"
      ],
      "metadata": {
        "colab": {
          "base_uri": "https://localhost:8080/"
        },
        "id": "kjETy0iEiyYe",
        "outputId": "26a37968-325c-486d-9adf-b35c2ad408ac"
      },
      "execution_count": 23,
      "outputs": [
        {
          "output_type": "execute_result",
          "data": {
            "text/plain": [
              "<tf.Tensor: shape=(10, 10), dtype=int32, numpy=\n",
              "array([[ 933,    0,    9,    8,    0,   11,   15,    1,    2,    1],\n",
              "       [   0, 1107,    2,    5,    0,    1,    6,    0,   12,    2],\n",
              "       [  18,    6,  852,   44,   15,    5,   38,   14,   31,    9],\n",
              "       [   7,    7,   22,  850,    0,   48,    7,   18,   46,    5],\n",
              "       [   4,    4,    5,    0,  811,    4,   23,    2,   13,  116],\n",
              "       [  23,    6,   10,   68,   31,  645,   23,    6,   64,   16],\n",
              "       [  14,    2,   25,    0,   19,   28,  856,    1,   13,    0],\n",
              "       [   3,    6,   37,    9,    7,    0,    0,  869,    4,   93],\n",
              "       [  11,   21,   22,   56,   29,   49,   21,    4,  724,   37],\n",
              "       [   7,    9,    9,   10,   98,   16,    0,   61,   21,  778]],\n",
              "      dtype=int32)>"
            ]
          },
          "metadata": {},
          "execution_count": 23
        }
      ]
    },
    {
      "cell_type": "code",
      "source": [
        "import seaborn as sn\n",
        "plt.figure(figsize=(7,5))\n",
        "sn.heatmap(cm, annot=True, fmt='d')\n",
        "plt.xlabel('Predicted')\n",
        "plt.ylabel('Truth')"
      ],
      "metadata": {
        "colab": {
          "base_uri": "https://localhost:8080/",
          "height": 483
        },
        "id": "Ukuvmi1hi9Xz",
        "outputId": "756f0150-115d-4694-8bd7-7a7c758e6efd"
      },
      "execution_count": 24,
      "outputs": [
        {
          "output_type": "execute_result",
          "data": {
            "text/plain": [
              "Text(58.222222222222214, 0.5, 'Truth')"
            ]
          },
          "metadata": {},
          "execution_count": 24
        },
        {
          "output_type": "display_data",
          "data": {
            "text/plain": [
              "<Figure size 700x500 with 2 Axes>"
            ],
            "image/png": "[encoded data removed]"
          },
          "metadata": {}
        }
      ]
    }
  ]
}